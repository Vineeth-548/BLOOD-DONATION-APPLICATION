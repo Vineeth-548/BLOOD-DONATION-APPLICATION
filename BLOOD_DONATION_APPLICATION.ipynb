{
  "nbformat": 4,
  "nbformat_minor": 0,
  "metadata": {
    "colab": {
      "name": "BLOOD   DONATION   APPLICATION.ipynb",
      "provenance": [],
      "authorship_tag": "ABX9TyM6pKiQ8i8F1SU5vxRFTJFV",
      "include_colab_link": true
    },
    "kernelspec": {
      "name": "python3",
      "display_name": "Python 3"
    },
    "language_info": {
      "name": "python"
    }
  },
  "cells": [
    {
      "cell_type": "markdown",
      "metadata": {
        "id": "view-in-github",
        "colab_type": "text"
      },
      "source": [
        "<a href=\"https://colab.research.google.com/github/Vineeth-548/BLOOD-DONATION-APPLICATION/blob/main/BLOOD_DONATION_APPLICATION.ipynb\" target=\"_parent\"><img src=\"https://colab.research.google.com/assets/colab-badge.svg\" alt=\"Open In Colab\"/></a>"
      ]
    },
    {
      "cell_type": "code",
      "metadata": {
        "id": "834fM_6QmWRq"
      },
      "source": [
        "print(\"\"\" BLOOD  DONATION  APPLICATION \"\"\")\n",
        "print(\"-----------------------------------------\")\n",
        "print(\"List of  different types of  Blood Groups in the Application \")\n",
        "\n",
        "Blood Groups : (\"'A+','B+','AB+','A-','B-','AB-','O+','O-'\")\n",
        "Blood Groups in Blood Bank = input(\"Enter your Blood Group : \")\n",
        "if  Blood Groups in Blood Bank = \"Blood Groups\":\n",
        "    print(\"Welcome to Blood Bank to apply an application for Blood Donation\")\n",
        "    \n",
        "print(\"To  find  Name of  the  hospital  in  the  Application,  enter the  number  1\")\n",
        "print(\"To  find  Name of  the  donar in  the  application,  enter the number 2\")\n",
        "print(\"To close  Application,  enter the  number 3\")\n",
        "print(\"-------------------------------------------\")\n",
        "\n",
        "x = input (\"Enter  your  choice  of  the  number  \")\n",
        "if x==1:\n",
        "    y=input(\"Name of the Hospital : \")\n",
        "    Name of the Hospital is= print(y)\n",
        "elif x==2:\n",
        "    z1=input(\"Enter your name : \")\n",
        "    z2=input(\"Enter your Blood Group : \")\n",
        "    print(\"The donar name is \")\n",
        "    print(z1)\n",
        "    print(\"The Blood Group of the donar is \")\n",
        "    print(z2)\n",
        "while x!=3:\n",
        "    print(\"Welcome to Blood Bank to apply an application for Blood Donation\")\n",
        "    print(\"----------------------------------------------------------------\")\n",
        "    \n",
        "s=int(input(\"contents : \\n 1. Name of the Hospital \\n 2. Name of the donar \\n 3. To close the Application \\n\"))\n",
        "if s==1:\n",
        "    Name of the Hospital=input(\"Enter the name of the hospital : \")\n",
        "    print(\"The name of the hospital for Blood donation is \\n\")\n",
        "elif s==2:\n",
        "    Donar=input(\"Enter the name of the donar : \")\n",
        "    print(\"The nameof the donar is \\n\")\n",
        "elif s!==3:\n",
        "    Donate=input(\"Enter the name of the donar who have donated the Blood : \")\n",
        "    print(\"The name of the donar who have donated the Blood is \\n\")\n",
        "else:\n",
        "    print(\"The Application is Incorrect \")"
      ],
      "execution_count": null,
      "outputs": []
    }
  ]
}